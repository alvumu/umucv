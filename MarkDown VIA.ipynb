{
 "cells": [
  {
   "cell_type": "markdown",
   "id": "23d9d6b6",
   "metadata": {},
   "source": [
    "# Calibracion 1\n",
    "\n",
    "\n"
   ]
  },
  {
   "cell_type": "markdown",
   "id": "07c6d63b",
   "metadata": {},
   "source": [
    "### 1.1 Realiza una calibración precisa de tu cámara mediante múltiples imágenes de un chessboard.\n",
    "\n",
    "Ejecutamos el script calibrate.py para obtener los valores de calibracion de nuestra cámara, para ello se han realizado unas fotografias con la camara a la imagen pattern.py, desde distintas perspectivas \n",
    "\n",
    "**insertar imagen salida calibrate**\n",
    "\n",
    "f = 880.04\n",
    "RMS = 0.6867\n",
    "distortion coefficients:[-2.66093196e-01 -2.05619840e+00  9.42678313e-04 3.15365063e-04\n",
    "  1.27018856e+01]\n",
    "  \n",
    "\n"
   ]
  },
  {
   "cell_type": "markdown",
   "id": "32e3deab",
   "metadata": {},
   "source": [
    "### 1.2 Haz una calibración aproximada con un objeto de tamaño conocido y compara con el resultado anterior.\n",
    "\n",
    "Coloco a una distancia de 50 cms, un objeto de 17 cm\n",
    "\n",
    "**insertar imagen de la medicion del objeto :medicionFunda.png**\n",
    "\n",
    "\n",
    "\n",
    "El objeto mide 296 pixeles y para calcular la f, realizamos los siguentes calculos : \n",
    "f = (296*50)/ 17 = 870.588235 pix\n",
    "El valor calculado es ligeramente inferior pero muy parecido al obtenido tras la ejecucion del script calibrate.py. \n",
    "\n",
    "A continuación, se obtienen los valores de FOV, tanto horizontal como vertical:\n",
    "\n",
    "FOV_h = arctan((640/2)/870.59)*2 = 40.36°\n",
    "\n",
    "FOV_v = arctan((480/2)/870.59)*2 = 30.82°\n"
   ]
  },
  {
   "cell_type": "markdown",
   "id": "22fa0c7a",
   "metadata": {},
   "source": [
    "### 1.3 Determina a qué altura hay que poner la cámara para obtener una vista cenital completa de un campo de baloncesto.\n",
    "\n",
    "Las medidas de un campo de baloncesto son : (28 x 15) mts, es decir, (2800 x 1500) cms, \n"
   ]
  },
  {
   "cell_type": "markdown",
   "id": "3b6bd430",
   "metadata": {},
   "source": [
    "\n",
    "Pixeles horizontales = 2 * 10^6 * (16/9) = 3555555,56\n",
    "Pixeles verticales  = 2 * 10^6 * (9/16) = 1125000\n",
    "\n",
    "PH = sqrt(3555555,56) = 1920\n",
    "PV = sqrt (1125000) = 1080\n"
   ]
  },
  {
   "cell_type": "markdown",
   "id": "88bf17e9",
   "metadata": {},
   "source": [
    "Píxel = 28000 * (96 / 2.54) = 1058267 y Píxel = 15000 * (96 / 2.54) = 566929\n",
    "\n",
    "tan(30.82 / 2) * 566929 -> 156264,724 Tengo que colocar la camara a 4136.77 cm"
   ]
  },
  {
   "cell_type": "markdown",
   "id": "9824d757",
   "metadata": {},
   "source": [
    "### 1.4.Haz una aplicación para medir el ángulo que definen dos puntos marcados con el ratón en el imagen\n",
    "\n",
    "Se ha modificado el programa medidor.py para aportar la funcionalidad que pedia este apartado. \n",
    "En primer lugar se necesita que el programa reciba el POV como argumento, el cual lo recibe de la siguiente manera: --pov x \n",
    "\n",
    "Una vez se ha recibido y comprado que el POV introducido es válido, se calcula la f, elemento clave para el calculo posterior de los ángulos. \n",
    "\n",
    "Finalmente con la distancia entre los puntos y la f calculamos el angulo que definen los dos puntos marcados. \n",
    "\n",
    "**Insertar el codigo y las imagenes de las ejecuciones**\n"
   ]
  },
  {
   "cell_type": "markdown",
   "id": "25fc678e",
   "metadata": {},
   "source": [
    "# 2. Actividad "
   ]
  },
  {
   "cell_type": "markdown",
   "id": "cc94aca0",
   "metadata": {},
   "source": [
    "### 2.1. Construye un detector de movimiento en una región de interés de la imagen marcada manualmente. Guarda 2 ó 3 segundos de la secuencia detectada en un archivo de vídeo. Opcional: muestra el objeto seleccionado anulando el fondo.\n"
   ]
  },
  {
   "cell_type": "code",
   "execution_count": null,
   "id": "ef752dc9",
   "metadata": {},
   "outputs": [],
   "source": []
  }
 ],
 "metadata": {
  "kernelspec": {
   "display_name": "Python 3 (ipykernel)",
   "language": "python",
   "name": "python3"
  },
  "language_info": {
   "codemirror_mode": {
    "name": "ipython",
    "version": 3
   },
   "file_extension": ".py",
   "mimetype": "text/x-python",
   "name": "python",
   "nbconvert_exporter": "python",
   "pygments_lexer": "ipython3",
   "version": "3.9.13"
  }
 },
 "nbformat": 4,
 "nbformat_minor": 5
}
